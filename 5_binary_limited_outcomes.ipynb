{
 "cells": [
  {
   "cell_type": "markdown",
   "metadata": {},
   "source": [
    "# Binary Limited Dependent Variables\n",
    "---\n",
    "Note: `statsmodels` currently does not have an implementation for Tobit. But do not worry! Let's specify the log-likelihood and solve it using `scipy`'s optimisation function. (Much cool, very wow)"
   ]
  },
  {
   "cell_type": "code",
   "execution_count": 1,
   "metadata": {},
   "outputs": [],
   "source": [
    "import numpy as np\n",
    "import pandas as pd\n",
    "import seaborn as sns\n",
    "import scipy\n",
    "\n",
    "import matplotlib.pyplot as plt\n",
    "import statsmodels.api as sm\n",
    "import statsmodels.formula.api as smf\n",
    "\n",
    "from scipy import stats\n",
    "\n",
    "from src.tobit import Tobit\n",
    "\n",
    "sns.set_style(\"darkgrid\")\n",
    "sns.set(rc={'figure.figsize':(12,9)})"
   ]
  },
  {
   "cell_type": "markdown",
   "metadata": {},
   "source": [
    "# 1. Introductory Binary Outcomes Model Analysis\n",
    "---\n",
    "- Note: check out https://www.statsmodels.org/stable/discretemod.html to find out more about discrete dependent variable regression in `statsmodels`."
   ]
  },
  {
   "cell_type": "code",
   "execution_count": 2,
   "metadata": {},
   "outputs": [
    {
     "data": {
      "text/html": [
       "<div>\n",
       "<style scoped>\n",
       "    .dataframe tbody tr th:only-of-type {\n",
       "        vertical-align: middle;\n",
       "    }\n",
       "\n",
       "    .dataframe tbody tr th {\n",
       "        vertical-align: top;\n",
       "    }\n",
       "\n",
       "    .dataframe thead th {\n",
       "        text-align: right;\n",
       "    }\n",
       "</style>\n",
       "<table border=\"1\" class=\"dataframe\">\n",
       "  <thead>\n",
       "    <tr style=\"text-align: right;\">\n",
       "      <th></th>\n",
       "      <th>country</th>\n",
       "      <th>year</th>\n",
       "      <th>y</th>\n",
       "      <th>y_bin</th>\n",
       "      <th>x1</th>\n",
       "      <th>x2</th>\n",
       "      <th>x3</th>\n",
       "      <th>opinion</th>\n",
       "      <th>op</th>\n",
       "    </tr>\n",
       "  </thead>\n",
       "  <tbody>\n",
       "    <tr>\n",
       "      <th>0</th>\n",
       "      <td>A</td>\n",
       "      <td>1990</td>\n",
       "      <td>1.342788e+09</td>\n",
       "      <td>1.0</td>\n",
       "      <td>0.277904</td>\n",
       "      <td>-1.107956</td>\n",
       "      <td>0.282554</td>\n",
       "      <td>Str agree</td>\n",
       "      <td>1.0</td>\n",
       "    </tr>\n",
       "    <tr>\n",
       "      <th>1</th>\n",
       "      <td>A</td>\n",
       "      <td>1991</td>\n",
       "      <td>-1.899661e+09</td>\n",
       "      <td>0.0</td>\n",
       "      <td>0.320685</td>\n",
       "      <td>-0.948720</td>\n",
       "      <td>0.492538</td>\n",
       "      <td>Disag</td>\n",
       "      <td>0.0</td>\n",
       "    </tr>\n",
       "    <tr>\n",
       "      <th>2</th>\n",
       "      <td>A</td>\n",
       "      <td>1992</td>\n",
       "      <td>-1.123436e+07</td>\n",
       "      <td>0.0</td>\n",
       "      <td>0.363466</td>\n",
       "      <td>-0.789484</td>\n",
       "      <td>0.702523</td>\n",
       "      <td>Disag</td>\n",
       "      <td>0.0</td>\n",
       "    </tr>\n",
       "    <tr>\n",
       "      <th>3</th>\n",
       "      <td>A</td>\n",
       "      <td>1993</td>\n",
       "      <td>2.645775e+09</td>\n",
       "      <td>1.0</td>\n",
       "      <td>0.246144</td>\n",
       "      <td>-0.885533</td>\n",
       "      <td>-0.094391</td>\n",
       "      <td>Disag</td>\n",
       "      <td>0.0</td>\n",
       "    </tr>\n",
       "    <tr>\n",
       "      <th>4</th>\n",
       "      <td>A</td>\n",
       "      <td>1994</td>\n",
       "      <td>3.008335e+09</td>\n",
       "      <td>1.0</td>\n",
       "      <td>0.424623</td>\n",
       "      <td>-0.729768</td>\n",
       "      <td>0.946131</td>\n",
       "      <td>Disag</td>\n",
       "      <td>0.0</td>\n",
       "    </tr>\n",
       "    <tr>\n",
       "      <th>...</th>\n",
       "      <td>...</td>\n",
       "      <td>...</td>\n",
       "      <td>...</td>\n",
       "      <td>...</td>\n",
       "      <td>...</td>\n",
       "      <td>...</td>\n",
       "      <td>...</td>\n",
       "      <td>...</td>\n",
       "      <td>...</td>\n",
       "    </tr>\n",
       "    <tr>\n",
       "      <th>65</th>\n",
       "      <td>G</td>\n",
       "      <td>1995</td>\n",
       "      <td>1.323696e+09</td>\n",
       "      <td>1.0</td>\n",
       "      <td>1.087186</td>\n",
       "      <td>-1.409817</td>\n",
       "      <td>2.829808</td>\n",
       "      <td>Str disag</td>\n",
       "      <td>0.0</td>\n",
       "    </tr>\n",
       "    <tr>\n",
       "      <th>66</th>\n",
       "      <td>G</td>\n",
       "      <td>1996</td>\n",
       "      <td>2.545242e+08</td>\n",
       "      <td>1.0</td>\n",
       "      <td>0.781075</td>\n",
       "      <td>-1.328000</td>\n",
       "      <td>4.278224</td>\n",
       "      <td>Str agree</td>\n",
       "      <td>1.0</td>\n",
       "    </tr>\n",
       "    <tr>\n",
       "      <th>67</th>\n",
       "      <td>G</td>\n",
       "      <td>1997</td>\n",
       "      <td>3.297033e+09</td>\n",
       "      <td>1.0</td>\n",
       "      <td>1.257879</td>\n",
       "      <td>-1.577367</td>\n",
       "      <td>4.587326</td>\n",
       "      <td>Disag</td>\n",
       "      <td>0.0</td>\n",
       "    </tr>\n",
       "    <tr>\n",
       "      <th>68</th>\n",
       "      <td>G</td>\n",
       "      <td>1998</td>\n",
       "      <td>3.011821e+09</td>\n",
       "      <td>1.0</td>\n",
       "      <td>1.242777</td>\n",
       "      <td>-1.601218</td>\n",
       "      <td>6.113762</td>\n",
       "      <td>Disag</td>\n",
       "      <td>0.0</td>\n",
       "    </tr>\n",
       "    <tr>\n",
       "      <th>69</th>\n",
       "      <td>G</td>\n",
       "      <td>1999</td>\n",
       "      <td>3.296283e+09</td>\n",
       "      <td>1.0</td>\n",
       "      <td>1.234200</td>\n",
       "      <td>-1.621761</td>\n",
       "      <td>7.168922</td>\n",
       "      <td>Disag</td>\n",
       "      <td>0.0</td>\n",
       "    </tr>\n",
       "  </tbody>\n",
       "</table>\n",
       "<p>70 rows × 9 columns</p>\n",
       "</div>"
      ],
      "text/plain": [
       "   country  year             y  y_bin        x1        x2        x3  \\\n",
       "0        A  1990  1.342788e+09    1.0  0.277904 -1.107956  0.282554   \n",
       "1        A  1991 -1.899661e+09    0.0  0.320685 -0.948720  0.492538   \n",
       "2        A  1992 -1.123436e+07    0.0  0.363466 -0.789484  0.702523   \n",
       "3        A  1993  2.645775e+09    1.0  0.246144 -0.885533 -0.094391   \n",
       "4        A  1994  3.008335e+09    1.0  0.424623 -0.729768  0.946131   \n",
       "..     ...   ...           ...    ...       ...       ...       ...   \n",
       "65       G  1995  1.323696e+09    1.0  1.087186 -1.409817  2.829808   \n",
       "66       G  1996  2.545242e+08    1.0  0.781075 -1.328000  4.278224   \n",
       "67       G  1997  3.297033e+09    1.0  1.257879 -1.577367  4.587326   \n",
       "68       G  1998  3.011821e+09    1.0  1.242777 -1.601218  6.113762   \n",
       "69       G  1999  3.296283e+09    1.0  1.234200 -1.621761  7.168922   \n",
       "\n",
       "      opinion   op  \n",
       "0   Str agree  1.0  \n",
       "1       Disag  0.0  \n",
       "2       Disag  0.0  \n",
       "3       Disag  0.0  \n",
       "4       Disag  0.0  \n",
       "..        ...  ...  \n",
       "65  Str disag  0.0  \n",
       "66  Str agree  1.0  \n",
       "67      Disag  0.0  \n",
       "68      Disag  0.0  \n",
       "69      Disag  0.0  \n",
       "\n",
       "[70 rows x 9 columns]"
      ]
     },
     "execution_count": 2,
     "metadata": {},
     "output_type": "execute_result"
    }
   ],
   "source": [
    "# Import data\n",
    "\n",
    "data = pd.read_stata('http://dss.princeton.edu/training/Panel101.dta')\n",
    "data"
   ]
  },
  {
   "cell_type": "code",
   "execution_count": 3,
   "metadata": {},
   "outputs": [],
   "source": [
    "# Restrict dataset to 4 countries and 4 years\n",
    "\n",
    "restrict_data = data.query('year < 1994')\n",
    "selected_countries = list(restrict_data['country'].unique()[:4])\n",
    "restrict_data = restrict_data[restrict_data['country'].isin(selected_countries)]"
   ]
  },
  {
   "cell_type": "markdown",
   "metadata": {},
   "source": [
    "## 1.1 Exploratory Data Analysis"
   ]
  },
  {
   "cell_type": "code",
   "execution_count": 4,
   "metadata": {},
   "outputs": [
    {
     "data": {
      "text/plain": [
       "<AxesSubplot:xlabel='x1', ylabel='y_bin'>"
      ]
     },
     "execution_count": 4,
     "metadata": {},
     "output_type": "execute_result"
    },
    {
     "data": {
      "image/png": "[encoded data removed]",
      "text/plain": [
       "<Figure size 864x648 with 1 Axes>"
      ]
     },
     "metadata": {},
     "output_type": "display_data"
    }
   ],
   "source": [
    "# let's plot y_bin against x_1 for restricted dataset\n",
    "# Add colour mappings (covariate to points) using the \"hue\" argument\n",
    "# Add marker shape mappings using the \"style\" arguent \n",
    "\n",
    "sns.scatterplot(x='x1', y='y_bin', hue='year', style='country', data=restrict_data, s=100, palette='Set2') # s marker size"
   ]
  },
  {
   "cell_type": "code",
   "execution_count": 5,
   "metadata": {},
   "outputs": [
    {
     "data": {
      "text/plain": [
       "<seaborn.axisgrid.FacetGrid at 0x7f8f4f2fd490>"
      ]
     },
     "execution_count": 5,
     "metadata": {},
     "output_type": "execute_result"
    },
    {
     "data": {
      "image/png": "[encoded data removed]",
      "text/plain": [
       "<Figure size 1080x1080 with 7 Axes>"
      ]
     },
     "metadata": {},
     "output_type": "display_data"
    }
   ],
   "source": [
    "# Explore full dataset with cross-sectional graphical LPM\n",
    "\n",
    "sns.lmplot(x='x1',\n",
    "           y='y_bin',\n",
    "           col='country',\n",
    "           hue='country',\n",
    "           y_jitter=0.2, # Jitter\n",
    "           data=data,\n",
    "           col_wrap=3, # Number of columns per row\n",
    "           palette='Set2')"
   ]
  },
  {
   "cell_type": "markdown",
   "metadata": {},
   "source": [
    "## 1.2 LPM, Logit, Probit, and Cauchit Estimation"
   ]
  },
  {
   "cell_type": "markdown",
   "metadata": {},
   "source": [
    "### 1.2.1 LPM"
   ]
  },
  {
   "cell_type": "code",
   "execution_count": 6,
   "metadata": {},
   "outputs": [
    {
     "data": {
      "text/html": [
       "<table class=\"simpletable\">\n",
       "<caption>OLS Regression Results</caption>\n",
       "<tr>\n",
       "  <th>Dep. Variable:</th>          <td>y_bin</td>      <th>  R-squared:         </th> <td>   0.044</td>\n",
       "</tr>\n",
       "<tr>\n",
       "  <th>Model:</th>                   <td>OLS</td>       <th>  Adj. R-squared:    </th> <td>   0.001</td>\n",
       "</tr>\n",
       "<tr>\n",
       "  <th>Method:</th>             <td>Least Squares</td>  <th>  F-statistic:       </th> <td>   1.019</td>\n",
       "</tr>\n",
       "<tr>\n",
       "  <th>Date:</th>             <td>Tue, 02 Feb 2021</td> <th>  Prob (F-statistic):</th>  <td> 0.390</td> \n",
       "</tr>\n",
       "<tr>\n",
       "  <th>Time:</th>                 <td>18:00:11</td>     <th>  Log-Likelihood:    </th> <td> -33.601</td>\n",
       "</tr>\n",
       "<tr>\n",
       "  <th>No. Observations:</th>      <td>    70</td>      <th>  AIC:               </th> <td>   75.20</td>\n",
       "</tr>\n",
       "<tr>\n",
       "  <th>Df Residuals:</th>          <td>    66</td>      <th>  BIC:               </th> <td>   84.20</td>\n",
       "</tr>\n",
       "<tr>\n",
       "  <th>Df Model:</th>              <td>     3</td>      <th>                     </th>     <td> </td>   \n",
       "</tr>\n",
       "<tr>\n",
       "  <th>Covariance Type:</th>      <td>nonrobust</td>    <th>                     </th>     <td> </td>   \n",
       "</tr>\n",
       "</table>\n",
       "<table class=\"simpletable\">\n",
       "<tr>\n",
       "      <td></td>         <th>coef</th>     <th>std err</th>      <th>t</th>      <th>P>|t|</th>  <th>[0.025</th>    <th>0.975]</th>  \n",
       "</tr>\n",
       "<tr>\n",
       "  <th>Intercept</th> <td>    0.6839</td> <td>    0.100</td> <td>    6.841</td> <td> 0.000</td> <td>    0.484</td> <td>    0.883</td>\n",
       "</tr>\n",
       "<tr>\n",
       "  <th>x1</th>        <td>    0.1002</td> <td>    0.120</td> <td>    0.834</td> <td> 0.407</td> <td>   -0.140</td> <td>    0.340</td>\n",
       "</tr>\n",
       "<tr>\n",
       "  <th>x2</th>        <td>    0.0427</td> <td>    0.046</td> <td>    0.933</td> <td> 0.354</td> <td>   -0.049</td> <td>    0.134</td>\n",
       "</tr>\n",
       "<tr>\n",
       "  <th>x3</th>        <td>    0.0597</td> <td>    0.039</td> <td>    1.550</td> <td> 0.126</td> <td>   -0.017</td> <td>    0.137</td>\n",
       "</tr>\n",
       "</table>\n",
       "<table class=\"simpletable\">\n",
       "<tr>\n",
       "  <th>Omnibus:</th>       <td>16.803</td> <th>  Durbin-Watson:     </th> <td>   1.277</td>\n",
       "</tr>\n",
       "<tr>\n",
       "  <th>Prob(Omnibus):</th> <td> 0.000</td> <th>  Jarque-Bera (JB):  </th> <td>  21.621</td>\n",
       "</tr>\n",
       "<tr>\n",
       "  <th>Skew:</th>          <td>-1.361</td> <th>  Prob(JB):          </th> <td>2.02e-05</td>\n",
       "</tr>\n",
       "<tr>\n",
       "  <th>Kurtosis:</th>      <td> 3.037</td> <th>  Cond. No.          </th> <td>    5.95</td>\n",
       "</tr>\n",
       "</table><br/><br/>Notes:<br/>[1] Standard Errors assume that the covariance matrix of the errors is correctly specified."
      ],
      "text/plain": [
       "<class 'statsmodels.iolib.summary.Summary'>\n",
       "\"\"\"\n",
       "                            OLS Regression Results                            \n",
       "==============================================================================\n",
       "Dep. Variable:                  y_bin   R-squared:                       0.044\n",
       "Model:                            OLS   Adj. R-squared:                  0.001\n",
       "Method:                 Least Squares   F-statistic:                     1.019\n",
       "Date:                Tue, 02 Feb 2021   Prob (F-statistic):              0.390\n",
       "Time:                        18:00:11   Log-Likelihood:                -33.601\n",
       "No. Observations:                  70   AIC:                             75.20\n",
       "Df Residuals:                      66   BIC:                             84.20\n",
       "Df Model:                           3                                         \n",
       "Covariance Type:            nonrobust                                         \n",
       "==============================================================================\n",
       "                 coef    std err          t      P>|t|      [0.025      0.975]\n",
       "------------------------------------------------------------------------------\n",
       "Intercept      0.6839      0.100      6.841      0.000       0.484       0.883\n",
       "x1             0.1002      0.120      0.834      0.407      -0.140       0.340\n",
       "x2             0.0427      0.046      0.933      0.354      -0.049       0.134\n",
       "x3             0.0597      0.039      1.550      0.126      -0.017       0.137\n",
       "==============================================================================\n",
       "Omnibus:                       16.803   Durbin-Watson:                   1.277\n",
       "Prob(Omnibus):                  0.000   Jarque-Bera (JB):               21.621\n",
       "Skew:                          -1.361   Prob(JB):                     2.02e-05\n",
       "Kurtosis:                       3.037   Cond. No.                         5.95\n",
       "==============================================================================\n",
       "\n",
       "Notes:\n",
       "[1] Standard Errors assume that the covariance matrix of the errors is correctly specified.\n",
       "\"\"\""
      ]
     },
     "execution_count": 6,
     "metadata": {},
     "output_type": "execute_result"
    }
   ],
   "source": [
    "# Naive linear probability model\n",
    "\n",
    "lpm_mod = sm.OLS.from_formula('y_bin ~ x1 + x2 + x3', data=data)\n",
    "lpm_res = lpm_mod.fit()\n",
    "lpm_res.summary()"
   ]
  },
  {
   "cell_type": "markdown",
   "metadata": {},
   "source": [
    "### 1.2.2 Generalised Linear Models (GLM)\n",
    "- See documentation (including list of link functions and distribution families implement) here: https://www.statsmodels.org/stable/glm.html\n",
    "- Note: since we are working with binary dependent variables, we use the \"binomial\" distribution family for the following examples."
   ]
  },
  {
   "cell_type": "code",
   "execution_count": 7,
   "metadata": {},
   "outputs": [
    {
     "data": {
      "text/html": [
       "<table class=\"simpletable\">\n",
       "<caption>Generalized Linear Model Regression Results</caption>\n",
       "<tr>\n",
       "  <th>Dep. Variable:</th>         <td>y_bin</td>      <th>  No. Observations:  </th>  <td>    70</td> \n",
       "</tr>\n",
       "<tr>\n",
       "  <th>Model:</th>                  <td>GLM</td>       <th>  Df Residuals:      </th>  <td>    66</td> \n",
       "</tr>\n",
       "<tr>\n",
       "  <th>Model Family:</th>        <td>Binomial</td>     <th>  Df Model:          </th>  <td>     3</td> \n",
       "</tr>\n",
       "<tr>\n",
       "  <th>Link Function:</th>         <td>logit</td>      <th>  Scale:             </th> <td>  1.0000</td>\n",
       "</tr>\n",
       "<tr>\n",
       "  <th>Method:</th>                <td>IRLS</td>       <th>  Log-Likelihood:    </th> <td> -32.756</td>\n",
       "</tr>\n",
       "<tr>\n",
       "  <th>Date:</th>            <td>Tue, 02 Feb 2021</td> <th>  Deviance:          </th> <td>  65.512</td>\n",
       "</tr>\n",
       "<tr>\n",
       "  <th>Time:</th>                <td>18:00:11</td>     <th>  Pearson chi2:      </th>  <td>  62.4</td> \n",
       "</tr>\n",
       "<tr>\n",
       "  <th>No. Iterations:</th>          <td>6</td>        <th>                     </th>     <td> </td>   \n",
       "</tr>\n",
       "<tr>\n",
       "  <th>Covariance Type:</th>     <td>nonrobust</td>    <th>                     </th>     <td> </td>   \n",
       "</tr>\n",
       "</table>\n",
       "<table class=\"simpletable\">\n",
       "<tr>\n",
       "      <td></td>         <th>coef</th>     <th>std err</th>      <th>z</th>      <th>P>|z|</th>  <th>[0.025</th>    <th>0.975]</th>  \n",
       "</tr>\n",
       "<tr>\n",
       "  <th>Intercept</th> <td>    0.4262</td> <td>    0.639</td> <td>    0.667</td> <td> 0.505</td> <td>   -0.826</td> <td>    1.679</td>\n",
       "</tr>\n",
       "<tr>\n",
       "  <th>x1</th>        <td>    0.8618</td> <td>    0.784</td> <td>    1.099</td> <td> 0.272</td> <td>   -0.675</td> <td>    2.398</td>\n",
       "</tr>\n",
       "<tr>\n",
       "  <th>x2</th>        <td>    0.3665</td> <td>    0.308</td> <td>    1.189</td> <td> 0.234</td> <td>   -0.237</td> <td>    0.971</td>\n",
       "</tr>\n",
       "<tr>\n",
       "  <th>x3</th>        <td>    0.7512</td> <td>    0.455</td> <td>    1.652</td> <td> 0.099</td> <td>   -0.140</td> <td>    1.643</td>\n",
       "</tr>\n",
       "</table>"
      ],
      "text/plain": [
       "<class 'statsmodels.iolib.summary.Summary'>\n",
       "\"\"\"\n",
       "                 Generalized Linear Model Regression Results                  \n",
       "==============================================================================\n",
       "Dep. Variable:                  y_bin   No. Observations:                   70\n",
       "Model:                            GLM   Df Residuals:                       66\n",
       "Model Family:                Binomial   Df Model:                            3\n",
       "Link Function:                  logit   Scale:                          1.0000\n",
       "Method:                          IRLS   Log-Likelihood:                -32.756\n",
       "Date:                Tue, 02 Feb 2021   Deviance:                       65.512\n",
       "Time:                        18:00:11   Pearson chi2:                     62.4\n",
       "No. Iterations:                     6                                         \n",
       "Covariance Type:            nonrobust                                         \n",
       "==============================================================================\n",
       "                 coef    std err          z      P>|z|      [0.025      0.975]\n",
       "------------------------------------------------------------------------------\n",
       "Intercept      0.4262      0.639      0.667      0.505      -0.826       1.679\n",
       "x1             0.8618      0.784      1.099      0.272      -0.675       2.398\n",
       "x2             0.3665      0.308      1.189      0.234      -0.237       0.971\n",
       "x3             0.7512      0.455      1.652      0.099      -0.140       1.643\n",
       "==============================================================================\n",
       "\"\"\""
      ]
     },
     "execution_count": 7,
     "metadata": {},
     "output_type": "execute_result"
    }
   ],
   "source": [
    "# Logit via Generalised Linear Model (GLM)\n",
    "# Pass in logit link function instance into the binomial distribution family\n",
    "\n",
    "logit_mod = smf.glm(formula='y_bin ~ x1 + x2 + x3', data=data, family=sm.families.Binomial(sm.families.links.logit()))\n",
    "logit_res = logit_mod.fit()\n",
    "logit_res.summary()"
   ]
  },
  {
   "cell_type": "code",
   "execution_count": 8,
   "metadata": {},
   "outputs": [
    {
     "data": {
      "text/html": [
       "<table class=\"simpletable\">\n",
       "<caption>Generalized Linear Model Regression Results</caption>\n",
       "<tr>\n",
       "  <th>Dep. Variable:</th>         <td>y_bin</td>      <th>  No. Observations:  </th>  <td>    70</td> \n",
       "</tr>\n",
       "<tr>\n",
       "  <th>Model:</th>                  <td>GLM</td>       <th>  Df Residuals:      </th>  <td>    66</td> \n",
       "</tr>\n",
       "<tr>\n",
       "  <th>Model Family:</th>        <td>Binomial</td>     <th>  Df Model:          </th>  <td>     3</td> \n",
       "</tr>\n",
       "<tr>\n",
       "  <th>Link Function:</th>        <td>probit</td>      <th>  Scale:             </th> <td>  1.0000</td>\n",
       "</tr>\n",
       "<tr>\n",
       "  <th>Method:</th>                <td>IRLS</td>       <th>  Log-Likelihood:    </th> <td> -32.593</td>\n",
       "</tr>\n",
       "<tr>\n",
       "  <th>Date:</th>            <td>Tue, 02 Feb 2021</td> <th>  Deviance:          </th> <td>  65.185</td>\n",
       "</tr>\n",
       "<tr>\n",
       "  <th>Time:</th>                <td>18:00:11</td>     <th>  Pearson chi2:      </th>  <td>  62.2</td> \n",
       "</tr>\n",
       "<tr>\n",
       "  <th>No. Iterations:</th>          <td>8</td>        <th>                     </th>     <td> </td>   \n",
       "</tr>\n",
       "<tr>\n",
       "  <th>Covariance Type:</th>     <td>nonrobust</td>    <th>                     </th>     <td> </td>   \n",
       "</tr>\n",
       "</table>\n",
       "<table class=\"simpletable\">\n",
       "<tr>\n",
       "      <td></td>         <th>coef</th>     <th>std err</th>      <th>z</th>      <th>P>|z|</th>  <th>[0.025</th>    <th>0.975]</th>  \n",
       "</tr>\n",
       "<tr>\n",
       "  <th>Intercept</th> <td>    0.2508</td> <td>    0.381</td> <td>    0.658</td> <td> 0.511</td> <td>   -0.497</td> <td>    0.998</td>\n",
       "</tr>\n",
       "<tr>\n",
       "  <th>x1</th>        <td>    0.5274</td> <td>    0.454</td> <td>    1.161</td> <td> 0.246</td> <td>   -0.363</td> <td>    1.418</td>\n",
       "</tr>\n",
       "<tr>\n",
       "  <th>x2</th>        <td>    0.2345</td> <td>    0.178</td> <td>    1.315</td> <td> 0.188</td> <td>   -0.115</td> <td>    0.584</td>\n",
       "</tr>\n",
       "<tr>\n",
       "  <th>x3</th>        <td>    0.4616</td> <td>    0.263</td> <td>    1.754</td> <td> 0.079</td> <td>   -0.054</td> <td>    0.977</td>\n",
       "</tr>\n",
       "</table>"
      ],
      "text/plain": [
       "<class 'statsmodels.iolib.summary.Summary'>\n",
       "\"\"\"\n",
       "                 Generalized Linear Model Regression Results                  \n",
       "==============================================================================\n",
       "Dep. Variable:                  y_bin   No. Observations:                   70\n",
       "Model:                            GLM   Df Residuals:                       66\n",
       "Model Family:                Binomial   Df Model:                            3\n",
       "Link Function:                 probit   Scale:                          1.0000\n",
       "Method:                          IRLS   Log-Likelihood:                -32.593\n",
       "Date:                Tue, 02 Feb 2021   Deviance:                       65.185\n",
       "Time:                        18:00:11   Pearson chi2:                     62.2\n",
       "No. Iterations:                     8                                         \n",
       "Covariance Type:            nonrobust                                         \n",
       "==============================================================================\n",
       "                 coef    std err          z      P>|z|      [0.025      0.975]\n",
       "------------------------------------------------------------------------------\n",
       "Intercept      0.2508      0.381      0.658      0.511      -0.497       0.998\n",
       "x1             0.5274      0.454      1.161      0.246      -0.363       1.418\n",
       "x2             0.2345      0.178      1.315      0.188      -0.115       0.584\n",
       "x3             0.4616      0.263      1.754      0.079      -0.054       0.977\n",
       "==============================================================================\n",
       "\"\"\""
      ]
     },
     "execution_count": 8,
     "metadata": {},
     "output_type": "execute_result"
    }
   ],
   "source": [
    "# Probit via Generalised Linear Model (GLM)\n",
    "# Pass in probit link function instance into the binomial distribution family\n",
    "\n",
    "probit_mod = smf.glm(formula='y_bin ~ x1 + x2 + x3',\n",
    "                     data=data,\n",
    "                     family=sm.families.Binomial(sm.families.links.probit()))\n",
    "probit_res = probit_mod.fit()\n",
    "probit_res.summary()"
   ]
  },
  {
   "cell_type": "code",
   "execution_count": 9,
   "metadata": {},
   "outputs": [
    {
     "data": {
      "text/html": [
       "<table class=\"simpletable\">\n",
       "<caption>Generalized Linear Model Regression Results</caption>\n",
       "<tr>\n",
       "  <th>Dep. Variable:</th>         <td>y_bin</td>      <th>  No. Observations:  </th>  <td>    70</td> \n",
       "</tr>\n",
       "<tr>\n",
       "  <th>Model:</th>                  <td>GLM</td>       <th>  Df Residuals:      </th>  <td>    66</td> \n",
       "</tr>\n",
       "<tr>\n",
       "  <th>Model Family:</th>        <td>Binomial</td>     <th>  Df Model:          </th>  <td>     3</td> \n",
       "</tr>\n",
       "<tr>\n",
       "  <th>Link Function:</th>        <td>cauchy</td>      <th>  Scale:             </th> <td>  1.0000</td>\n",
       "</tr>\n",
       "<tr>\n",
       "  <th>Method:</th>                <td>IRLS</td>       <th>  Log-Likelihood:    </th> <td> -33.524</td>\n",
       "</tr>\n",
       "<tr>\n",
       "  <th>Date:</th>            <td>Tue, 02 Feb 2021</td> <th>  Deviance:          </th> <td>  67.047</td>\n",
       "</tr>\n",
       "<tr>\n",
       "  <th>Time:</th>                <td>18:00:12</td>     <th>  Pearson chi2:      </th>  <td>  64.5</td> \n",
       "</tr>\n",
       "<tr>\n",
       "  <th>No. Iterations:</th>         <td>21</td>        <th>                     </th>     <td> </td>   \n",
       "</tr>\n",
       "<tr>\n",
       "  <th>Covariance Type:</th>     <td>nonrobust</td>    <th>                     </th>     <td> </td>   \n",
       "</tr>\n",
       "</table>\n",
       "<table class=\"simpletable\">\n",
       "<tr>\n",
       "      <td></td>         <th>coef</th>     <th>std err</th>      <th>z</th>      <th>P>|z|</th>  <th>[0.025</th>    <th>0.975]</th>  \n",
       "</tr>\n",
       "<tr>\n",
       "  <th>Intercept</th> <td>    0.4585</td> <td>    0.700</td> <td>    0.655</td> <td> 0.513</td> <td>   -0.914</td> <td>    1.831</td>\n",
       "</tr>\n",
       "<tr>\n",
       "  <th>x1</th>        <td>    0.9365</td> <td>    1.028</td> <td>    0.911</td> <td> 0.362</td> <td>   -1.078</td> <td>    2.951</td>\n",
       "</tr>\n",
       "<tr>\n",
       "  <th>x2</th>        <td>    0.2236</td> <td>    0.380</td> <td>    0.589</td> <td> 0.556</td> <td>   -0.521</td> <td>    0.968</td>\n",
       "</tr>\n",
       "<tr>\n",
       "  <th>x3</th>        <td>    0.6645</td> <td>    0.606</td> <td>    1.097</td> <td> 0.273</td> <td>   -0.523</td> <td>    1.852</td>\n",
       "</tr>\n",
       "</table>"
      ],
      "text/plain": [
       "<class 'statsmodels.iolib.summary.Summary'>\n",
       "\"\"\"\n",
       "                 Generalized Linear Model Regression Results                  \n",
       "==============================================================================\n",
       "Dep. Variable:                  y_bin   No. Observations:                   70\n",
       "Model:                            GLM   Df Residuals:                       66\n",
       "Model Family:                Binomial   Df Model:                            3\n",
       "Link Function:                 cauchy   Scale:                          1.0000\n",
       "Method:                          IRLS   Log-Likelihood:                -33.524\n",
       "Date:                Tue, 02 Feb 2021   Deviance:                       67.047\n",
       "Time:                        18:00:12   Pearson chi2:                     64.5\n",
       "No. Iterations:                    21                                         \n",
       "Covariance Type:            nonrobust                                         \n",
       "==============================================================================\n",
       "                 coef    std err          z      P>|z|      [0.025      0.975]\n",
       "------------------------------------------------------------------------------\n",
       "Intercept      0.4585      0.700      0.655      0.513      -0.914       1.831\n",
       "x1             0.9365      1.028      0.911      0.362      -1.078       2.951\n",
       "x2             0.2236      0.380      0.589      0.556      -0.521       0.968\n",
       "x3             0.6645      0.606      1.097      0.273      -0.523       1.852\n",
       "==============================================================================\n",
       "\"\"\""
      ]
     },
     "execution_count": 9,
     "metadata": {},
     "output_type": "execute_result"
    }
   ],
   "source": [
    "# Cauchit via Generalised Linear Model (GLM)\n",
    "# Pass in cauchy link function instance into the binomial distribution family\n",
    "\n",
    "cauchy_mod = smf.glm(formula='y_bin ~ x1 + x2 + x3', data=data, family=sm.families.Binomial(sm.families.links.cauchy()))\n",
    "cauchy_res = cauchy_mod.fit()\n",
    "cauchy_res.summary()"
   ]
  },
  {
   "cell_type": "markdown",
   "metadata": {},
   "source": [
    "### 1.2.3 Graph Predicted Probabilties\n",
    "---\n",
    "- Let's first graph the in-sample (i.e. values of X observed in the data) predicted probabilities."
   ]
  },
  {
   "cell_type": "code",
   "execution_count": 10,
   "metadata": {},
   "outputs": [
    {
     "data": {
      "image/png": "[encoded data removed]",
      "text/plain": [
       "<Figure size 648x648 with 1 Axes>"
      ]
     },
     "metadata": {},
     "output_type": "display_data"
    }
   ],
   "source": [
    "# Graph LPM predictions against Logit predictions\n",
    "\n",
    "X = data[['x1', 'x2', 'x3']]\n",
    "graph_data = pd.DataFrame({'LPM Probabilities': lpm_res.predict(X), 'Logit Probabilities': logit_res.predict(X)})\n",
    "g = sns.FacetGrid(graph_data, height=9)\n",
    "g = g.map(plt.scatter, 'Logit Probabilities', 'LPM Probabilities', edgecolor=\"w\")\n",
    "plt.plot([0,1], [0,1], color='r')\n",
    "plt.show()"
   ]
  },
  {
   "cell_type": "code",
   "execution_count": 11,
   "metadata": {},
   "outputs": [
    {
     "data": {
      "image/png": "[encoded data removed]",
      "text/plain": [
       "<Figure size 648x648 with 1 Axes>"
      ]
     },
     "metadata": {},
     "output_type": "display_data"
    }
   ],
   "source": [
    "# Graph Probit predictions against Cauchit predictions\n",
    "\n",
    "X = data[['x1', 'x2', 'x3']]\n",
    "graph_data = pd.DataFrame({'Cauchit Probabilities': cauchy_res.predict(X), 'Probit Probabilities': probit_res.predict(X)})\n",
    "g = sns.FacetGrid(graph_data, height=9)\n",
    "g = g.map(plt.scatter, 'Cauchit Probabilities', 'Probit Probabilities', edgecolor=\"w\")\n",
    "plt.plot([0,1], [0,1], color='r')\n",
    "plt.show()"
   ]
  },
  {
   "cell_type": "markdown",
   "metadata": {},
   "source": [
    "# 2. Tobit\n",
    "- Labour market data (http://www.principlesofeconometrics.com/poe5/data/csv/mroz.csv).\n",
    "- Note: `statsmodels` currently has no implementation of Tobit, but fear not, let's define the log-likelihood, then solve for the global maximum using numerical methods."
   ]
  },
  {
   "cell_type": "code",
   "execution_count": 12,
   "metadata": {},
   "outputs": [
    {
     "data": {
      "text/html": [
       "<div>\n",
       "<style scoped>\n",
       "    .dataframe tbody tr th:only-of-type {\n",
       "        vertical-align: middle;\n",
       "    }\n",
       "\n",
       "    .dataframe tbody tr th {\n",
       "        vertical-align: top;\n",
       "    }\n",
       "\n",
       "    .dataframe thead th {\n",
       "        text-align: right;\n",
       "    }\n",
       "</style>\n",
       "<table border=\"1\" class=\"dataframe\">\n",
       "  <thead>\n",
       "    <tr style=\"text-align: right;\">\n",
       "      <th></th>\n",
       "      <th>hours</th>\n",
       "      <th>educ</th>\n",
       "      <th>exper</th>\n",
       "      <th>age</th>\n",
       "      <th>kidsl6</th>\n",
       "    </tr>\n",
       "  </thead>\n",
       "  <tbody>\n",
       "    <tr>\n",
       "      <th>0</th>\n",
       "      <td>1610</td>\n",
       "      <td>12</td>\n",
       "      <td>14</td>\n",
       "      <td>32</td>\n",
       "      <td>1</td>\n",
       "    </tr>\n",
       "    <tr>\n",
       "      <th>1</th>\n",
       "      <td>1656</td>\n",
       "      <td>12</td>\n",
       "      <td>5</td>\n",
       "      <td>30</td>\n",
       "      <td>0</td>\n",
       "    </tr>\n",
       "    <tr>\n",
       "      <th>2</th>\n",
       "      <td>1980</td>\n",
       "      <td>12</td>\n",
       "      <td>15</td>\n",
       "      <td>35</td>\n",
       "      <td>1</td>\n",
       "    </tr>\n",
       "    <tr>\n",
       "      <th>3</th>\n",
       "      <td>456</td>\n",
       "      <td>12</td>\n",
       "      <td>6</td>\n",
       "      <td>34</td>\n",
       "      <td>0</td>\n",
       "    </tr>\n",
       "    <tr>\n",
       "      <th>4</th>\n",
       "      <td>1568</td>\n",
       "      <td>14</td>\n",
       "      <td>7</td>\n",
       "      <td>31</td>\n",
       "      <td>1</td>\n",
       "    </tr>\n",
       "    <tr>\n",
       "      <th>...</th>\n",
       "      <td>...</td>\n",
       "      <td>...</td>\n",
       "      <td>...</td>\n",
       "      <td>...</td>\n",
       "      <td>...</td>\n",
       "    </tr>\n",
       "    <tr>\n",
       "      <th>748</th>\n",
       "      <td>0</td>\n",
       "      <td>13</td>\n",
       "      <td>5</td>\n",
       "      <td>40</td>\n",
       "      <td>0</td>\n",
       "    </tr>\n",
       "    <tr>\n",
       "      <th>749</th>\n",
       "      <td>0</td>\n",
       "      <td>12</td>\n",
       "      <td>14</td>\n",
       "      <td>31</td>\n",
       "      <td>2</td>\n",
       "    </tr>\n",
       "    <tr>\n",
       "      <th>750</th>\n",
       "      <td>0</td>\n",
       "      <td>12</td>\n",
       "      <td>4</td>\n",
       "      <td>43</td>\n",
       "      <td>0</td>\n",
       "    </tr>\n",
       "    <tr>\n",
       "      <th>751</th>\n",
       "      <td>0</td>\n",
       "      <td>12</td>\n",
       "      <td>15</td>\n",
       "      <td>60</td>\n",
       "      <td>0</td>\n",
       "    </tr>\n",
       "    <tr>\n",
       "      <th>752</th>\n",
       "      <td>0</td>\n",
       "      <td>9</td>\n",
       "      <td>12</td>\n",
       "      <td>39</td>\n",
       "      <td>0</td>\n",
       "    </tr>\n",
       "  </tbody>\n",
       "</table>\n",
       "<p>753 rows × 5 columns</p>\n",
       "</div>"
      ],
      "text/plain": [
       "     hours  educ  exper  age  kidsl6\n",
       "0     1610    12     14   32       1\n",
       "1     1656    12      5   30       0\n",
       "2     1980    12     15   35       1\n",
       "3      456    12      6   34       0\n",
       "4     1568    14      7   31       1\n",
       "..     ...   ...    ...  ...     ...\n",
       "748      0    13      5   40       0\n",
       "749      0    12     14   31       2\n",
       "750      0    12      4   43       0\n",
       "751      0    12     15   60       0\n",
       "752      0     9     12   39       0\n",
       "\n",
       "[753 rows x 5 columns]"
      ]
     },
     "execution_count": 12,
     "metadata": {},
     "output_type": "execute_result"
    }
   ],
   "source": [
    "# Import data\n",
    "\n",
    "mroz_data = pd.read_csv('http://www.principlesofeconometrics.com/poe5/data/csv/mroz.csv')\n",
    "mroz_data = mroz_data[['hours', 'educ', 'exper', 'age', 'kidsl6']] # Select relevant columns\n",
    "mroz_data"
   ]
  },
  {
   "cell_type": "code",
   "execution_count": 13,
   "metadata": {},
   "outputs": [
    {
     "data": {
      "text/plain": [
       "<AxesSubplot:xlabel='hours', ylabel='Count'>"
      ]
     },
     "execution_count": 13,
     "metadata": {},
     "output_type": "execute_result"
    },
    {
     "data": {
      "image/png": "[encoded data removed]",
      "text/plain": [
       "<Figure size 864x648 with 1 Axes>"
      ]
     },
     "metadata": {},
     "output_type": "display_data"
    }
   ],
   "source": [
    "# Histogram of hours worked\n",
    "\n",
    "sns.histplot(mroz_data['hours'])"
   ]
  },
  {
   "cell_type": "markdown",
   "metadata": {},
   "source": [
    "### LPM"
   ]
  },
  {
   "cell_type": "code",
   "execution_count": 14,
   "metadata": {},
   "outputs": [
    {
     "data": {
      "text/html": [
       "<table class=\"simpletable\">\n",
       "<caption>OLS Regression Results</caption>\n",
       "<tr>\n",
       "  <th>Dep. Variable:</th>          <td>hours</td>      <th>  R-squared:         </th> <td>   0.257</td> \n",
       "</tr>\n",
       "<tr>\n",
       "  <th>Model:</th>                   <td>OLS</td>       <th>  Adj. R-squared:    </th> <td>   0.253</td> \n",
       "</tr>\n",
       "<tr>\n",
       "  <th>Method:</th>             <td>Least Squares</td>  <th>  F-statistic:       </th> <td>   64.71</td> \n",
       "</tr>\n",
       "<tr>\n",
       "  <th>Date:</th>             <td>Tue, 02 Feb 2021</td> <th>  Prob (F-statistic):</th> <td>5.24e-47</td> \n",
       "</tr>\n",
       "<tr>\n",
       "  <th>Time:</th>                 <td>18:00:15</td>     <th>  Log-Likelihood:    </th> <td> -6053.9</td> \n",
       "</tr>\n",
       "<tr>\n",
       "  <th>No. Observations:</th>      <td>   753</td>      <th>  AIC:               </th> <td>1.212e+04</td>\n",
       "</tr>\n",
       "<tr>\n",
       "  <th>Df Residuals:</th>          <td>   748</td>      <th>  BIC:               </th> <td>1.214e+04</td>\n",
       "</tr>\n",
       "<tr>\n",
       "  <th>Df Model:</th>              <td>     4</td>      <th>                     </th>     <td> </td>    \n",
       "</tr>\n",
       "<tr>\n",
       "  <th>Covariance Type:</th>      <td>nonrobust</td>    <th>                     </th>     <td> </td>    \n",
       "</tr>\n",
       "</table>\n",
       "<table class=\"simpletable\">\n",
       "<tr>\n",
       "      <td></td>         <th>coef</th>     <th>std err</th>      <th>t</th>      <th>P>|t|</th>  <th>[0.025</th>    <th>0.975]</th>  \n",
       "</tr>\n",
       "<tr>\n",
       "  <th>Intercept</th> <td> 1335.3060</td> <td>  235.649</td> <td>    5.667</td> <td> 0.000</td> <td>  872.695</td> <td> 1797.918</td>\n",
       "</tr>\n",
       "<tr>\n",
       "  <th>educ</th>      <td>   27.0857</td> <td>   12.240</td> <td>    2.213</td> <td> 0.027</td> <td>    3.057</td> <td>   51.114</td>\n",
       "</tr>\n",
       "<tr>\n",
       "  <th>exper</th>     <td>   48.0398</td> <td>    3.642</td> <td>   13.191</td> <td> 0.000</td> <td>   40.890</td> <td>   55.189</td>\n",
       "</tr>\n",
       "<tr>\n",
       "  <th>age</th>       <td>  -31.3078</td> <td>    3.961</td> <td>   -7.904</td> <td> 0.000</td> <td>  -39.084</td> <td>  -23.532</td>\n",
       "</tr>\n",
       "<tr>\n",
       "  <th>kidsl6</th>    <td> -447.8547</td> <td>   58.413</td> <td>   -7.667</td> <td> 0.000</td> <td> -562.527</td> <td> -333.183</td>\n",
       "</tr>\n",
       "</table>\n",
       "<table class=\"simpletable\">\n",
       "<tr>\n",
       "  <th>Omnibus:</th>       <td>81.428</td> <th>  Durbin-Watson:     </th> <td>   1.368</td>\n",
       "</tr>\n",
       "<tr>\n",
       "  <th>Prob(Omnibus):</th> <td> 0.000</td> <th>  Jarque-Bera (JB):  </th> <td> 117.172</td>\n",
       "</tr>\n",
       "<tr>\n",
       "  <th>Skew:</th>          <td> 0.782</td> <th>  Prob(JB):          </th> <td>3.60e-26</td>\n",
       "</tr>\n",
       "<tr>\n",
       "  <th>Kurtosis:</th>      <td> 4.134</td> <th>  Cond. No.          </th> <td>    399.</td>\n",
       "</tr>\n",
       "</table><br/><br/>Notes:<br/>[1] Standard Errors assume that the covariance matrix of the errors is correctly specified."
      ],
      "text/plain": [
       "<class 'statsmodels.iolib.summary.Summary'>\n",
       "\"\"\"\n",
       "                            OLS Regression Results                            \n",
       "==============================================================================\n",
       "Dep. Variable:                  hours   R-squared:                       0.257\n",
       "Model:                            OLS   Adj. R-squared:                  0.253\n",
       "Method:                 Least Squares   F-statistic:                     64.71\n",
       "Date:                Tue, 02 Feb 2021   Prob (F-statistic):           5.24e-47\n",
       "Time:                        18:00:15   Log-Likelihood:                -6053.9\n",
       "No. Observations:                 753   AIC:                         1.212e+04\n",
       "Df Residuals:                     748   BIC:                         1.214e+04\n",
       "Df Model:                           4                                         \n",
       "Covariance Type:            nonrobust                                         \n",
       "==============================================================================\n",
       "                 coef    std err          t      P>|t|      [0.025      0.975]\n",
       "------------------------------------------------------------------------------\n",
       "Intercept   1335.3060    235.649      5.667      0.000     872.695    1797.918\n",
       "educ          27.0857     12.240      2.213      0.027       3.057      51.114\n",
       "exper         48.0398      3.642     13.191      0.000      40.890      55.189\n",
       "age          -31.3078      3.961     -7.904      0.000     -39.084     -23.532\n",
       "kidsl6      -447.8547     58.413     -7.667      0.000    -562.527    -333.183\n",
       "==============================================================================\n",
       "Omnibus:                       81.428   Durbin-Watson:                   1.368\n",
       "Prob(Omnibus):                  0.000   Jarque-Bera (JB):              117.172\n",
       "Skew:                           0.782   Prob(JB):                     3.60e-26\n",
       "Kurtosis:                       4.134   Cond. No.                         399.\n",
       "==============================================================================\n",
       "\n",
       "Notes:\n",
       "[1] Standard Errors assume that the covariance matrix of the errors is correctly specified.\n",
       "\"\"\""
      ]
     },
     "execution_count": 14,
     "metadata": {},
     "output_type": "execute_result"
    }
   ],
   "source": [
    "# Naive LPM\n",
    "\n",
    "lpm_mroz_mod = sm.OLS.from_formula('hours ~ educ + exper + age + kidsl6', data=mroz_data)\n",
    "lpm_mroz_res = lpm_mroz_mod.fit()\n",
    "lpm_mroz_res.summary()"
   ]
  },
  {
   "cell_type": "markdown",
   "metadata": {},
   "source": [
    "### Tobit\n",
    "- The `tobit` class used below is implemented in the `tobit` module in the PyEC333 repository.\n",
    "- You do not need to understand the implementation details for this section. \n",
    "- However, do check it out for an example of how theory can be converted step by step into code."
   ]
  },
  {
   "cell_type": "markdown",
   "metadata": {},
   "source": [
    "### Data Prep"
   ]
  },
  {
   "cell_type": "code",
   "execution_count": 15,
   "metadata": {},
   "outputs": [],
   "source": [
    "# Create column of 'cutoff' indicator variables\n",
    "# 0 if 'hours' == 0, 1 otherwise\n",
    "cutoff = mroz_data['hours'].apply(lambda x: 0 if x == 0 else 1)\n",
    "cutoff.name = 'cutoff'\n",
    "\n",
    "# Add cutoff to data and set as index\n",
    "mroz_data = mroz_data.merge(cutoff, left_index=True, right_index=True).set_index('cutoff')\n",
    "\n",
    "# Exog and endog\n",
    "endog = mroz_data['hours']\n",
    "exog = mroz_data[['educ', 'exper', 'age', 'kidsl6']]\n",
    "\n",
    "# Add intercept to exog\n",
    "exog['intecept'] = 1"
   ]
  },
  {
   "cell_type": "markdown",
   "metadata": {},
   "source": [
    "### Solve!\n",
    "- Note: it seems the algorithm does not converge to a global minimum for the negative log-likelihood function. You can try to increase the maximum number of iterations. Or perhaps try different numerical methods."
   ]
  },
  {
   "cell_type": "code",
   "execution_count": 16,
   "metadata": {},
   "outputs": [
    {
     "name": "stdout",
     "output_type": "stream",
     "text": [
      "Warning: Maximum number of iterations has been exceeded.\n"
     ]
    },
    {
     "data": {
      "text/html": [
       "<div>\n",
       "<style scoped>\n",
       "    .dataframe tbody tr th:only-of-type {\n",
       "        vertical-align: middle;\n",
       "    }\n",
       "\n",
       "    .dataframe tbody tr th {\n",
       "        vertical-align: top;\n",
       "    }\n",
       "\n",
       "    .dataframe thead th {\n",
       "        text-align: right;\n",
       "    }\n",
       "</style>\n",
       "<table border=\"1\" class=\"dataframe\">\n",
       "  <thead>\n",
       "    <tr style=\"text-align: right;\">\n",
       "      <th></th>\n",
       "      <th>estimate</th>\n",
       "      <th>coeff</th>\n",
       "    </tr>\n",
       "  </thead>\n",
       "  <tbody>\n",
       "    <tr>\n",
       "      <th>0</th>\n",
       "      <td>educ</td>\n",
       "      <td>1.926230</td>\n",
       "    </tr>\n",
       "    <tr>\n",
       "      <th>1</th>\n",
       "      <td>exper</td>\n",
       "      <td>-5.815772</td>\n",
       "    </tr>\n",
       "    <tr>\n",
       "      <th>2</th>\n",
       "      <td>age</td>\n",
       "      <td>36.959267</td>\n",
       "    </tr>\n",
       "    <tr>\n",
       "      <th>3</th>\n",
       "      <td>kidsl6</td>\n",
       "      <td>-275.531145</td>\n",
       "    </tr>\n",
       "    <tr>\n",
       "      <th>4</th>\n",
       "      <td>intecept</td>\n",
       "      <td>-49.926324</td>\n",
       "    </tr>\n",
       "    <tr>\n",
       "      <th>5</th>\n",
       "      <td>sd</td>\n",
       "      <td>24.988442</td>\n",
       "    </tr>\n",
       "  </tbody>\n",
       "</table>\n",
       "</div>"
      ],
      "text/plain": [
       "   estimate       coeff\n",
       "0      educ    1.926230\n",
       "1     exper   -5.815772\n",
       "2       age   36.959267\n",
       "3    kidsl6 -275.531145\n",
       "4  intecept  -49.926324\n",
       "5        sd   24.988442"
      ]
     },
     "execution_count": 16,
     "metadata": {},
     "output_type": "execute_result"
    }
   ],
   "source": [
    "# Create Tobit instance\n",
    "tobit_mod = Tobit(endog, exog)\n",
    "\n",
    "# Fit model\n",
    "tobit_res = tobit_mod.fit(method='Nelder-Mead')\n",
    "tobit_res"
   ]
  }
 ],
 "metadata": {
  "kernelspec": {
   "display_name": "ec333_env",
   "language": "python",
   "name": "ec333_env"
  },
  "language_info": {
   "codemirror_mode": {
    "name": "ipython",
    "version": 3
   },
   "file_extension": ".py",
   "mimetype": "text/x-python",
   "name": "python",
   "nbconvert_exporter": "python",
   "pygments_lexer": "ipython3",
   "version": "3.8.5"
  }
 },
 "nbformat": 4,
 "nbformat_minor": 4
}
