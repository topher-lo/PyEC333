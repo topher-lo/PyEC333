{
 "cells": [
  {
   "cell_type": "markdown",
   "id": "careful-mason",
   "metadata": {},
   "source": [
    "# Non-linear Panel Models\n",
    "---\n",
    "## Overview (and pre-analysis plan)\n",
    "In this notebook, we will be:\n",
    "- Fitting multiple panel models to non-linear data (i.e. data with binary outcomes)\n",
    "- Models include:\n",
    "    1. Pooled logit\n",
    "    2. Conditional logit (country fixed effects)\n",
    "    3. Conditional logit (year fixed effects)\n",
    "    4. LPM\n",
    "    5. LPM (country fixed effects)\n",
    "    6. LPM (year fixed effects)\n",
    "    7. LPM (two-way fixed effects)\n",
    "- Looking at a quick and dirty example of model selection using:\n",
    "    - R squared\n",
    "    - Akaike Information Criterion\n",
    "    - Bayesian Information Criterion\n",
    "    \n",
    "Note: we will once again use `statsmodels` for model fitting and model selection.\n",
    "\n",
    "Further note: I've deliberately left out cross-validation for model selection. I believe this technique deserves its own separate notebook."
   ]
  },
  {
   "cell_type": "code",
   "execution_count": 12,
   "id": "developing-flour",
   "metadata": {},
   "outputs": [],
   "source": [
    "import pandas as pd\n",
    "\n",
    "import statsmodels.api as sm\n",
    "import statsmodels.formula.api as smf\n",
    "\n",
    "from statsmodels.discrete.conditional_models import ConditionalLogit"
   ]
  },
  {
   "cell_type": "markdown",
   "id": "proved-funeral",
   "metadata": {},
   "source": [
    "# 1. Data prep"
   ]
  },
  {
   "cell_type": "code",
   "execution_count": 10,
   "id": "yellow-shoot",
   "metadata": {},
   "outputs": [
    {
     "data": {
      "text/html": [
       "<div>\n",
       "<style scoped>\n",
       "    .dataframe tbody tr th:only-of-type {\n",
       "        vertical-align: middle;\n",
       "    }\n",
       "\n",
       "    .dataframe tbody tr th {\n",
       "        vertical-align: top;\n",
       "    }\n",
       "\n",
       "    .dataframe thead th {\n",
       "        text-align: right;\n",
       "    }\n",
       "</style>\n",
       "<table border=\"1\" class=\"dataframe\">\n",
       "  <thead>\n",
       "    <tr style=\"text-align: right;\">\n",
       "      <th></th>\n",
       "      <th>country</th>\n",
       "      <th>year</th>\n",
       "      <th>y</th>\n",
       "      <th>y_bin</th>\n",
       "      <th>x1</th>\n",
       "      <th>x2</th>\n",
       "      <th>x3</th>\n",
       "      <th>opinion</th>\n",
       "      <th>op</th>\n",
       "    </tr>\n",
       "  </thead>\n",
       "  <tbody>\n",
       "    <tr>\n",
       "      <th>0</th>\n",
       "      <td>A</td>\n",
       "      <td>1990</td>\n",
       "      <td>1.342788e+09</td>\n",
       "      <td>1.0</td>\n",
       "      <td>0.277904</td>\n",
       "      <td>-1.107956</td>\n",
       "      <td>0.282554</td>\n",
       "      <td>Str agree</td>\n",
       "      <td>1.0</td>\n",
       "    </tr>\n",
       "    <tr>\n",
       "      <th>1</th>\n",
       "      <td>A</td>\n",
       "      <td>1991</td>\n",
       "      <td>-1.899661e+09</td>\n",
       "      <td>0.0</td>\n",
       "      <td>0.320685</td>\n",
       "      <td>-0.948720</td>\n",
       "      <td>0.492538</td>\n",
       "      <td>Disag</td>\n",
       "      <td>0.0</td>\n",
       "    </tr>\n",
       "    <tr>\n",
       "      <th>2</th>\n",
       "      <td>A</td>\n",
       "      <td>1992</td>\n",
       "      <td>-1.123436e+07</td>\n",
       "      <td>0.0</td>\n",
       "      <td>0.363466</td>\n",
       "      <td>-0.789484</td>\n",
       "      <td>0.702523</td>\n",
       "      <td>Disag</td>\n",
       "      <td>0.0</td>\n",
       "    </tr>\n",
       "    <tr>\n",
       "      <th>3</th>\n",
       "      <td>A</td>\n",
       "      <td>1993</td>\n",
       "      <td>2.645775e+09</td>\n",
       "      <td>1.0</td>\n",
       "      <td>0.246144</td>\n",
       "      <td>-0.885533</td>\n",
       "      <td>-0.094391</td>\n",
       "      <td>Disag</td>\n",
       "      <td>0.0</td>\n",
       "    </tr>\n",
       "    <tr>\n",
       "      <th>4</th>\n",
       "      <td>A</td>\n",
       "      <td>1994</td>\n",
       "      <td>3.008335e+09</td>\n",
       "      <td>1.0</td>\n",
       "      <td>0.424623</td>\n",
       "      <td>-0.729768</td>\n",
       "      <td>0.946131</td>\n",
       "      <td>Disag</td>\n",
       "      <td>0.0</td>\n",
       "    </tr>\n",
       "    <tr>\n",
       "      <th>...</th>\n",
       "      <td>...</td>\n",
       "      <td>...</td>\n",
       "      <td>...</td>\n",
       "      <td>...</td>\n",
       "      <td>...</td>\n",
       "      <td>...</td>\n",
       "      <td>...</td>\n",
       "      <td>...</td>\n",
       "      <td>...</td>\n",
       "    </tr>\n",
       "    <tr>\n",
       "      <th>65</th>\n",
       "      <td>G</td>\n",
       "      <td>1995</td>\n",
       "      <td>1.323696e+09</td>\n",
       "      <td>1.0</td>\n",
       "      <td>1.087186</td>\n",
       "      <td>-1.409817</td>\n",
       "      <td>2.829808</td>\n",
       "      <td>Str disag</td>\n",
       "      <td>0.0</td>\n",
       "    </tr>\n",
       "    <tr>\n",
       "      <th>66</th>\n",
       "      <td>G</td>\n",
       "      <td>1996</td>\n",
       "      <td>2.545242e+08</td>\n",
       "      <td>1.0</td>\n",
       "      <td>0.781075</td>\n",
       "      <td>-1.328000</td>\n",
       "      <td>4.278224</td>\n",
       "      <td>Str agree</td>\n",
       "      <td>1.0</td>\n",
       "    </tr>\n",
       "    <tr>\n",
       "      <th>67</th>\n",
       "      <td>G</td>\n",
       "      <td>1997</td>\n",
       "      <td>3.297033e+09</td>\n",
       "      <td>1.0</td>\n",
       "      <td>1.257879</td>\n",
       "      <td>-1.577367</td>\n",
       "      <td>4.587326</td>\n",
       "      <td>Disag</td>\n",
       "      <td>0.0</td>\n",
       "    </tr>\n",
       "    <tr>\n",
       "      <th>68</th>\n",
       "      <td>G</td>\n",
       "      <td>1998</td>\n",
       "      <td>3.011821e+09</td>\n",
       "      <td>1.0</td>\n",
       "      <td>1.242777</td>\n",
       "      <td>-1.601218</td>\n",
       "      <td>6.113762</td>\n",
       "      <td>Disag</td>\n",
       "      <td>0.0</td>\n",
       "    </tr>\n",
       "    <tr>\n",
       "      <th>69</th>\n",
       "      <td>G</td>\n",
       "      <td>1999</td>\n",
       "      <td>3.296283e+09</td>\n",
       "      <td>1.0</td>\n",
       "      <td>1.234200</td>\n",
       "      <td>-1.621761</td>\n",
       "      <td>7.168922</td>\n",
       "      <td>Disag</td>\n",
       "      <td>0.0</td>\n",
       "    </tr>\n",
       "  </tbody>\n",
       "</table>\n",
       "<p>70 rows × 9 columns</p>\n",
       "</div>"
      ],
      "text/plain": [
       "   country  year             y  y_bin        x1        x2        x3  \\\n",
       "0        A  1990  1.342788e+09    1.0  0.277904 -1.107956  0.282554   \n",
       "1        A  1991 -1.899661e+09    0.0  0.320685 -0.948720  0.492538   \n",
       "2        A  1992 -1.123436e+07    0.0  0.363466 -0.789484  0.702523   \n",
       "3        A  1993  2.645775e+09    1.0  0.246144 -0.885533 -0.094391   \n",
       "4        A  1994  3.008335e+09    1.0  0.424623 -0.729768  0.946131   \n",
       "..     ...   ...           ...    ...       ...       ...       ...   \n",
       "65       G  1995  1.323696e+09    1.0  1.087186 -1.409817  2.829808   \n",
       "66       G  1996  2.545242e+08    1.0  0.781075 -1.328000  4.278224   \n",
       "67       G  1997  3.297033e+09    1.0  1.257879 -1.577367  4.587326   \n",
       "68       G  1998  3.011821e+09    1.0  1.242777 -1.601218  6.113762   \n",
       "69       G  1999  3.296283e+09    1.0  1.234200 -1.621761  7.168922   \n",
       "\n",
       "      opinion   op  \n",
       "0   Str agree  1.0  \n",
       "1       Disag  0.0  \n",
       "2       Disag  0.0  \n",
       "3       Disag  0.0  \n",
       "4       Disag  0.0  \n",
       "..        ...  ...  \n",
       "65  Str disag  0.0  \n",
       "66  Str agree  1.0  \n",
       "67      Disag  0.0  \n",
       "68      Disag  0.0  \n",
       "69      Disag  0.0  \n",
       "\n",
       "[70 rows x 9 columns]"
      ]
     },
     "execution_count": 10,
     "metadata": {},
     "output_type": "execute_result"
    }
   ],
   "source": [
    "# Load data (from http://www.princeton.edu/~otorres/LogitR101.pdf )\n",
    "\n",
    "data = pd.read_stata('http://dss.princeton.edu/training/Panel101.dta')\n",
    "data"
   ]
  },
  {
   "cell_type": "code",
   "execution_count": 14,
   "id": "separate-velvet",
   "metadata": {},
   "outputs": [],
   "source": [
    "# Seperate exogenous columns, endogenous columns, \n",
    "# country column, and year column\n",
    "\n",
    "exog = data[['x1', 'x2', 'x3']]\n",
    "endog = data['y_bin']\n",
    "countries = data['country']\n",
    "years = data['year']"
   ]
  },
  {
   "cell_type": "markdown",
   "id": "supreme-armstrong",
   "metadata": {},
   "source": [
    "# 2. Non-linear panel models"
   ]
  },
  {
   "cell_type": "markdown",
   "id": "physical-shadow",
   "metadata": {},
   "source": [
    "## 2.1 Pooled logit"
   ]
  },
  {
   "cell_type": "code",
   "execution_count": 13,
   "id": "cloudy-private",
   "metadata": {},
   "outputs": [
    {
     "name": "stdout",
     "output_type": "stream",
     "text": [
      "Optimization terminated successfully.\n",
      "         Current function value: 0.467944\n",
      "         Iterations 7\n"
     ]
    },
    {
     "data": {
      "text/html": [
       "<table class=\"simpletable\">\n",
       "<caption>Logit Regression Results</caption>\n",
       "<tr>\n",
       "  <th>Dep. Variable:</th>         <td>y_bin</td>      <th>  No. Observations:  </th>  <td>    70</td> \n",
       "</tr>\n",
       "<tr>\n",
       "  <th>Model:</th>                 <td>Logit</td>      <th>  Df Residuals:      </th>  <td>    66</td> \n",
       "</tr>\n",
       "<tr>\n",
       "  <th>Method:</th>                 <td>MLE</td>       <th>  Df Model:          </th>  <td>     3</td> \n",
       "</tr>\n",
       "<tr>\n",
       "  <th>Date:</th>            <td>Thu, 11 Feb 2021</td> <th>  Pseudo R-squ.:     </th>  <td>0.06486</td>\n",
       "</tr>\n",
       "<tr>\n",
       "  <th>Time:</th>                <td>10:54:59</td>     <th>  Log-Likelihood:    </th> <td> -32.756</td>\n",
       "</tr>\n",
       "<tr>\n",
       "  <th>converged:</th>             <td>True</td>       <th>  LL-Null:           </th> <td> -35.028</td>\n",
       "</tr>\n",
       "<tr>\n",
       "  <th>Covariance Type:</th>     <td>nonrobust</td>    <th>  LLR p-value:       </th>  <td>0.2084</td> \n",
       "</tr>\n",
       "</table>\n",
       "<table class=\"simpletable\">\n",
       "<tr>\n",
       "      <td></td>         <th>coef</th>     <th>std err</th>      <th>z</th>      <th>P>|z|</th>  <th>[0.025</th>    <th>0.975]</th>  \n",
       "</tr>\n",
       "<tr>\n",
       "  <th>Intercept</th> <td>    0.4262</td> <td>    0.639</td> <td>    0.667</td> <td> 0.505</td> <td>   -0.826</td> <td>    1.679</td>\n",
       "</tr>\n",
       "<tr>\n",
       "  <th>x1</th>        <td>    0.8618</td> <td>    0.784</td> <td>    1.099</td> <td> 0.272</td> <td>   -0.675</td> <td>    2.398</td>\n",
       "</tr>\n",
       "<tr>\n",
       "  <th>x2</th>        <td>    0.3665</td> <td>    0.308</td> <td>    1.189</td> <td> 0.234</td> <td>   -0.237</td> <td>    0.971</td>\n",
       "</tr>\n",
       "<tr>\n",
       "  <th>x3</th>        <td>    0.7512</td> <td>    0.455</td> <td>    1.652</td> <td> 0.099</td> <td>   -0.140</td> <td>    1.643</td>\n",
       "</tr>\n",
       "</table>"
      ],
      "text/plain": [
       "<class 'statsmodels.iolib.summary.Summary'>\n",
       "\"\"\"\n",
       "                           Logit Regression Results                           \n",
       "==============================================================================\n",
       "Dep. Variable:                  y_bin   No. Observations:                   70\n",
       "Model:                          Logit   Df Residuals:                       66\n",
       "Method:                           MLE   Df Model:                            3\n",
       "Date:                Thu, 11 Feb 2021   Pseudo R-squ.:                 0.06486\n",
       "Time:                        10:54:59   Log-Likelihood:                -32.756\n",
       "converged:                       True   LL-Null:                       -35.028\n",
       "Covariance Type:            nonrobust   LLR p-value:                    0.2084\n",
       "==============================================================================\n",
       "                 coef    std err          z      P>|z|      [0.025      0.975]\n",
       "------------------------------------------------------------------------------\n",
       "Intercept      0.4262      0.639      0.667      0.505      -0.826       1.679\n",
       "x1             0.8618      0.784      1.099      0.272      -0.675       2.398\n",
       "x2             0.3665      0.308      1.189      0.234      -0.237       0.971\n",
       "x3             0.7512      0.455      1.652      0.099      -0.140       1.643\n",
       "==============================================================================\n",
       "\"\"\""
      ]
     },
     "execution_count": 13,
     "metadata": {},
     "output_type": "execute_result"
    }
   ],
   "source": [
    "# Pooled logit\n",
    "\n",
    "logit_mod = smf.logit(formula='y_bin ~ x1 + x2 + x3',\n",
    "                      data=data)\n",
    "logit_res = logit_mod.fit()\n",
    "logit_res.summary()"
   ]
  },
  {
   "cell_type": "markdown",
   "id": "latter-peace",
   "metadata": {},
   "source": [
    "## 2.2 Conditional logit (country fixed effects)"
   ]
  },
  {
   "cell_type": "code",
   "execution_count": 23,
   "id": "alien-hawaii",
   "metadata": {},
   "outputs": [
    {
     "name": "stderr",
     "output_type": "stream",
     "text": [
      "/home/topher-lo/miniconda3/envs/ec333/lib/python3.8/site-packages/statsmodels/discrete/conditional_models.py:80: UserWarning: Dropped 4 groups and 28 observations for having no within-group variance\n",
      "  warnings.warn(msg)\n"
     ]
    },
    {
     "ename": "ValueError",
     "evalue": "need covariance of parameters for computing (unnormalized) covariances",
     "output_type": "error",
     "traceback": [
      "\u001b[0;31m---------------------------------------------------------------------------\u001b[0m",
      "\u001b[0;31mValueError\u001b[0m                                Traceback (most recent call last)",
      "\u001b[0;32m<ipython-input-23-043ea86d9a09>\u001b[0m in \u001b[0;36m<module>\u001b[0;34m\u001b[0m\n\u001b[1;32m      4\u001b[0m                                       \u001b[0mexog\u001b[0m\u001b[0;34m=\u001b[0m\u001b[0mexog\u001b[0m\u001b[0;34m,\u001b[0m\u001b[0;34m\u001b[0m\u001b[0;34m\u001b[0m\u001b[0m\n\u001b[1;32m      5\u001b[0m                                       groups=years)\n\u001b[0;32m----> 6\u001b[0;31m clogit_country_res = clogit_country_mod.fit(method='basinhopping',\n\u001b[0m\u001b[1;32m      7\u001b[0m                                             \u001b[0mmaxiter\u001b[0m\u001b[0;34m=\u001b[0m\u001b[0;36m1000\u001b[0m\u001b[0;34m,\u001b[0m\u001b[0;34m\u001b[0m\u001b[0;34m\u001b[0m\u001b[0m\n\u001b[1;32m      8\u001b[0m                                             skip_hessian=True)\n",
      "\u001b[0;32m~/miniconda3/envs/ec333/lib/python3.8/site-packages/statsmodels/discrete/conditional_models.py\u001b[0m in \u001b[0;36mfit\u001b[0;34m(self, start_params, method, maxiter, full_output, disp, fargs, callback, retall, skip_hessian, **kwargs)\u001b[0m\n\u001b[1;32m    123\u001b[0m             skip_hessian=skip_hessian)\n\u001b[1;32m    124\u001b[0m \u001b[0;34m\u001b[0m\u001b[0m\n\u001b[0;32m--> 125\u001b[0;31m         \u001b[0mcrslt\u001b[0m \u001b[0;34m=\u001b[0m \u001b[0mConditionalResults\u001b[0m\u001b[0;34m(\u001b[0m\u001b[0mself\u001b[0m\u001b[0;34m,\u001b[0m \u001b[0mrslt\u001b[0m\u001b[0;34m.\u001b[0m\u001b[0mparams\u001b[0m\u001b[0;34m,\u001b[0m \u001b[0mrslt\u001b[0m\u001b[0;34m.\u001b[0m\u001b[0mcov_params\u001b[0m\u001b[0;34m(\u001b[0m\u001b[0;34m)\u001b[0m\u001b[0;34m,\u001b[0m \u001b[0;36m1\u001b[0m\u001b[0;34m)\u001b[0m\u001b[0;34m\u001b[0m\u001b[0;34m\u001b[0m\u001b[0m\n\u001b[0m\u001b[1;32m    126\u001b[0m         \u001b[0mcrslt\u001b[0m\u001b[0;34m.\u001b[0m\u001b[0mmethod\u001b[0m \u001b[0;34m=\u001b[0m \u001b[0mmethod\u001b[0m\u001b[0;34m\u001b[0m\u001b[0;34m\u001b[0m\u001b[0m\n\u001b[1;32m    127\u001b[0m         \u001b[0mcrslt\u001b[0m\u001b[0;34m.\u001b[0m\u001b[0mnobs\u001b[0m \u001b[0;34m=\u001b[0m \u001b[0mself\u001b[0m\u001b[0;34m.\u001b[0m\u001b[0mnobs\u001b[0m\u001b[0;34m\u001b[0m\u001b[0;34m\u001b[0m\u001b[0m\n",
      "\u001b[0;32m~/miniconda3/envs/ec333/lib/python3.8/site-packages/statsmodels/base/model.py\u001b[0m in \u001b[0;36mcov_params\u001b[0;34m(self, r_matrix, column, scale, cov_p, other)\u001b[0m\n\u001b[1;32m   1436\u001b[0m         if (cov_p is None and self.normalized_cov_params is None and\n\u001b[1;32m   1437\u001b[0m                 not hasattr(self, 'cov_params_default')):\n\u001b[0;32m-> 1438\u001b[0;31m             raise ValueError('need covariance of parameters for computing '\n\u001b[0m\u001b[1;32m   1439\u001b[0m                              '(unnormalized) covariances')\n\u001b[1;32m   1440\u001b[0m         \u001b[0;32mif\u001b[0m \u001b[0mcolumn\u001b[0m \u001b[0;32mis\u001b[0m \u001b[0;32mnot\u001b[0m \u001b[0;32mNone\u001b[0m \u001b[0;32mand\u001b[0m \u001b[0;34m(\u001b[0m\u001b[0mr_matrix\u001b[0m \u001b[0;32mis\u001b[0m \u001b[0;32mnot\u001b[0m \u001b[0;32mNone\u001b[0m \u001b[0;32mor\u001b[0m \u001b[0mother\u001b[0m \u001b[0;32mis\u001b[0m \u001b[0;32mnot\u001b[0m \u001b[0;32mNone\u001b[0m\u001b[0;34m)\u001b[0m\u001b[0;34m:\u001b[0m\u001b[0;34m\u001b[0m\u001b[0;34m\u001b[0m\u001b[0m\n",
      "\u001b[0;31mValueError\u001b[0m: need covariance of parameters for computing (unnormalized) covariances"
     ]
    }
   ],
   "source": [
    "# Conditional logit (country FE)\n",
    "\n",
    "clogit_country_mod = ConditionalLogit(endog=endog,\n",
    "                                      exog=exog,\n",
    "                                      groups=years)\n",
    "clogit_country_res = clogit_country_mod.fit(method='basinhopping',\n",
    "                                            maxiter=1000,\n",
    "                                            skip_hessian=True)\n",
    "clogit_country_res.summary()"
   ]
  },
  {
   "cell_type": "markdown",
   "id": "incredible-gossip",
   "metadata": {},
   "source": [
    "## 2.3 Conditional logit (year fixed effects)"
   ]
  },
  {
   "cell_type": "code",
   "execution_count": null,
   "id": "conceptual-liechtenstein",
   "metadata": {},
   "outputs": [],
   "source": [
    "# Conditional logit (year FE)\n",
    "\n",
    "# Specify exog, endog, and year groups\n"
   ]
  },
  {
   "cell_type": "markdown",
   "id": "favorite-current",
   "metadata": {},
   "source": [
    "## 2.4 LPM"
   ]
  },
  {
   "cell_type": "code",
   "execution_count": null,
   "id": "inclusive-synthesis",
   "metadata": {},
   "outputs": [],
   "source": [
    "# Pooled LPM\n",
    "\n"
   ]
  },
  {
   "cell_type": "markdown",
   "id": "incorporated-husband",
   "metadata": {},
   "source": [
    "## 2.4 LPM"
   ]
  },
  {
   "cell_type": "code",
   "execution_count": null,
   "id": "accurate-series",
   "metadata": {},
   "outputs": [],
   "source": [
    "# Pooled LPM\n",
    "\n"
   ]
  },
  {
   "cell_type": "code",
   "execution_count": null,
   "id": "toxic-cholesterol",
   "metadata": {},
   "outputs": [],
   "source": [
    "# "
   ]
  }
 ],
 "metadata": {
  "kernelspec": {
   "display_name": "Python [conda env:ec333] *",
   "language": "python",
   "name": "conda-env-ec333-py"
  },
  "language_info": {
   "codemirror_mode": {
    "name": "ipython",
    "version": 3
   },
   "file_extension": ".py",
   "mimetype": "text/x-python",
   "name": "python",
   "nbconvert_exporter": "python",
   "pygments_lexer": "ipython3",
   "version": "3.8.5"
  }
 },
 "nbformat": 4,
 "nbformat_minor": 5
}
