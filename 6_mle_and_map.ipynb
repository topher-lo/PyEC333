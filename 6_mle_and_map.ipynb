{
 "cells": [
  {
   "cell_type": "markdown",
   "id": "accomplished-window",
   "metadata": {},
   "source": [
    "# Introduction to MLE (and MAP)\n",
    "---\n",
    "## Overview\n",
    "We will be looking at parameter estimation in this notebook. In particular, we will be:\n",
    "- Defining distributions\n",
    "- Plotting likelihood functions\n",
    "- Estimating parameters\n",
    "- Comparing numerical methods (that estimate parameters without a closed-form solution)\n",
    "\n",
    "I thought this would be a good opportunity to introduce maximum a posteriori (MAP), which is a Bayesian method for parameter estimation. MAP incorporates a prior distribution over the possible values of the parameter to be estimated.\n",
    "\n",
    "**CAUTION:** this is NOT an introduction to Bayesian inference. My intention is to provide examples where **prior information** *might* help with parameter estimation. Note:\n",
    "- MAP is not representative of Bayesian inference. A MAP estimate is a point estimate equal to the mode of the posterior distribution. In general, Bayesians consider parameters and hypotheses as random variables. As random variables, you can (in most cases) meaningfully report statistics of the posterior distribution other than the mode (e.g. mean, standard deviation).\n",
    "- There are unsolved problems with regards to the intepretation of prior probabilities. These problems are anathema to frequentists and divide (philosophically inclined) Bayesians (see https://plato.stanford.edu/entries/epistemology-bayesian/#PotPro)."
   ]
  },
  {
   "cell_type": "code",
   "execution_count": null,
   "id": "registered-payroll",
   "metadata": {},
   "outputs": [],
   "source": []
  }
 ],
 "metadata": {
  "kernelspec": {
   "display_name": "Python [conda env:ec333] *",
   "language": "python",
   "name": "conda-env-ec333-py"
  },
  "language_info": {
   "codemirror_mode": {
    "name": "ipython",
    "version": 3
   },
   "file_extension": ".py",
   "mimetype": "text/x-python",
   "name": "python",
   "nbconvert_exporter": "python",
   "pygments_lexer": "ipython3",
   "version": "3.8.5"
  }
 },
 "nbformat": 4,
 "nbformat_minor": 5
}
